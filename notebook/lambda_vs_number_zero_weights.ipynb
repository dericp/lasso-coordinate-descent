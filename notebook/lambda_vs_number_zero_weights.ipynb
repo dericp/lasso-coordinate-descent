{
 "cells": [
  {
   "cell_type": "code",
   "execution_count": 7,
   "metadata": {
    "collapsed": true
   },
   "outputs": [],
   "source": [
    "import math\n",
    "import numpy as np\n",
    "import pandas as pd\n",
    "import matplotlib.pyplot as plt\n",
    "\n",
    "\n",
    "EPSILON = 1e-6\n",
    "\n",
    "\n",
    "def eval(y, X, w):\n",
    "    return np.sum(np.square(np.dot(X, w) - y))\n",
    "\n",
    "\n",
    "def train(lamb, y, X, w):\n",
    "    # normalization constants\n",
    "    z = np.square(X).sum(axis=0)\n",
    "\n",
    "    converged = False\n",
    "    while not converged:\n",
    "        converged = True\n",
    "        for j in range(X.shape[1]):\n",
    "            j_feature = X[:, j]\n",
    "\n",
    "            # store the previous value of the jth weight\n",
    "            prev_w = w[j]\n",
    "\n",
    "            # set the jth weight to zero---w is now w_j-1\n",
    "            w[j] = 0\n",
    "\n",
    "            # get the predictions not considering the jth feature\n",
    "            predictions = np.dot(X, w)\n",
    "            residual = y - predictions\n",
    "\n",
    "            rho = np.dot(j_feature, residual.T)\n",
    "\n",
    "            if rho < -lamb / 2:\n",
    "                w[j] = (rho + lamb / 2) / z[j]\n",
    "            elif rho > lamb / 2:\n",
    "                w[j] = (rho - lamb / 2) / z[j]\n",
    "            else:\n",
    "                w[j] = 0\n",
    "\n",
    "            if math.fabs(w[j] - prev_w) > EPSILON:\n",
    "                converged = False\n",
    "\n",
    "    lamb /= 2\n",
    "\n",
    "    return w\n",
    "\n",
    "\n",
    "def get_responses_and_input_variables(df):\n",
    "    y = df[df.columns[0]].values\n",
    "    X = df.drop(df.columns[0], axis=1).values\n",
    "    return y, X"
   ]
  },
  {
   "cell_type": "code",
   "execution_count": 8,
   "metadata": {
    "collapsed": false
   },
   "outputs": [
    {
     "name": "stdout",
     "output_type": "stream",
     "text": [
      "training...\n",
      "epoch 1\n",
      "epoch 2\n",
      "epoch 3\n",
      "epoch 4\n",
      "epoch 5\n",
      "epoch 6\n",
      "epoch 7\n",
      "epoch 8\n",
      "epoch 9\n",
      "epoch 10\n"
     ]
    }
   ],
   "source": [
    "df_train = pd.read_table('../data/crime-train.txt')\n",
    "df_test = pd.read_table('../data/crime-test.txt')\n",
    "\n",
    "y_train, X_train = get_responses_and_input_variables(df_train)\n",
    "\n",
    "lamb = 600\n",
    "w_s = list()\n",
    "w = np.random.normal(0, 1, X_train.shape[1])\n",
    "log_lambdas = list()\n",
    "print('training...')\n",
    "for epoch in range(1, 11):\n",
    "    print('epoch ' + str(epoch))\n",
    "    w = train(lamb, y_train, X_train, w)\n",
    "    w_s.append(np.copy(w))\n",
    "    log_lambdas.append(lamb)\n",
    "    lamb /= 2"
   ]
  },
  {
   "cell_type": "code",
   "execution_count": 11,
   "metadata": {
    "collapsed": false
   },
   "outputs": [
    {
     "data": {
      "image/png": "[encoded data removed]",
      "text/plain": [
       "<matplotlib.figure.Figure at 0x114511f60>"
      ]
     },
     "metadata": {},
     "output_type": "display_data"
    }
   ],
   "source": [
    "plt.plot(log_lambdas, list(np.count_nonzero(w) for w in w_s), 'bo-')\n",
    "plt.title('Number of Nonzero Weights vs. Lambda')\n",
    "plt.xlabel('Lambda')\n",
    "plt.ylabel('Number of Nonzero Weights')\n",
    "plt.savefig('../plots/lambda-vs-num-nonzero-weights.png')\n",
    "plt.show()"
   ]
  },
  {
   "cell_type": "code",
   "execution_count": null,
   "metadata": {
    "collapsed": true
   },
   "outputs": [],
   "source": []
  }
 ],
 "metadata": {
  "kernelspec": {
   "display_name": "Python 3",
   "language": "python",
   "name": "python3"
  },
  "language_info": {
   "codemirror_mode": {
    "name": "ipython",
    "version": 3
   },
   "file_extension": ".py",
   "mimetype": "text/x-python",
   "name": "python",
   "nbconvert_exporter": "python",
   "pygments_lexer": "ipython3",
   "version": "3.6.0"
  }
 },
 "nbformat": 4,
 "nbformat_minor": 0
}
